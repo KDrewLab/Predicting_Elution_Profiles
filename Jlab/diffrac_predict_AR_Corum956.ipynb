{
 "cells": [
  {
   "cell_type": "code",
   "execution_count": 113,
   "id": "061dc221-00a6-4e56-a187-0510480e726d",
   "metadata": {},
   "outputs": [],
   "source": [
    "import pandas as pd\n",
    "import numpy as np\n",
    "import itertools as it\n",
    "import matplotlib as mpl\n",
    "import matplotlib.pyplot as plt\n",
    "%matplotlib inline\n",
    "\n",
    "import random\n",
    "\n",
    "from collections import Counter\n",
    "import operator"
   ]
  },
  {
   "cell_type": "code",
   "execution_count": 114,
   "id": "841fffcd-d756-4716-b30b-c927e2d30f4d",
   "metadata": {
    "tags": []
   },
   "outputs": [],
   "source": [
    "prot_mass_df = pd.read_csv('human_proteome_mass_bins2.csv')"
   ]
  },
  {
   "cell_type": "code",
   "execution_count": 115,
   "id": "f82ad7b4-d671-4b48-9427-f9bdad48ae11",
   "metadata": {
    "jupyter": {
     "source_hidden": true
    },
    "tags": []
   },
   "outputs": [
    {
     "data": {
      "text/html": [
       "<div>\n",
       "<style scoped>\n",
       "    .dataframe tbody tr th:only-of-type {\n",
       "        vertical-align: middle;\n",
       "    }\n",
       "\n",
       "    .dataframe tbody tr th {\n",
       "        vertical-align: top;\n",
       "    }\n",
       "\n",
       "    .dataframe thead th {\n",
       "        text-align: right;\n",
       "    }\n",
       "</style>\n",
       "<table border=\"1\" class=\"dataframe\">\n",
       "  <thead>\n",
       "    <tr style=\"text-align: right;\">\n",
       "      <th></th>\n",
       "      <th>Unnamed: 0</th>\n",
       "      <th>Entry</th>\n",
       "      <th>Entry Name</th>\n",
       "      <th>Protein names</th>\n",
       "      <th>Gene Names</th>\n",
       "      <th>Mass</th>\n",
       "      <th>0-15</th>\n",
       "      <th>15-29</th>\n",
       "      <th>29-33</th>\n",
       "      <th>33-37</th>\n",
       "      <th>37-39</th>\n",
       "      <th>39-41</th>\n",
       "      <th>41-53</th>\n",
       "      <th>53-80</th>\n",
       "    </tr>\n",
       "  </thead>\n",
       "  <tbody>\n",
       "    <tr>\n",
       "      <th>0</th>\n",
       "      <td>0</td>\n",
       "      <td>A0A024QZ08</td>\n",
       "      <td>A0A024QZ08_HUMAN</td>\n",
       "      <td>Intraflagellar transport 20 homolog (Chlamydom...</td>\n",
       "      <td>IFT20 hCG_31823</td>\n",
       "      <td>15281</td>\n",
       "      <td>0</td>\n",
       "      <td>0</td>\n",
       "      <td>0</td>\n",
       "      <td>0</td>\n",
       "      <td>0</td>\n",
       "      <td>0</td>\n",
       "      <td>0</td>\n",
       "      <td>0</td>\n",
       "    </tr>\n",
       "    <tr>\n",
       "      <th>1</th>\n",
       "      <td>1</td>\n",
       "      <td>A0A024QZ86</td>\n",
       "      <td>A0A024QZ86_HUMAN</td>\n",
       "      <td>T-box 2, isoform CRA_a</td>\n",
       "      <td>TBX2 hCG_32216</td>\n",
       "      <td>75066</td>\n",
       "      <td>0</td>\n",
       "      <td>0</td>\n",
       "      <td>0</td>\n",
       "      <td>0</td>\n",
       "      <td>0</td>\n",
       "      <td>0</td>\n",
       "      <td>0</td>\n",
       "      <td>0</td>\n",
       "    </tr>\n",
       "    <tr>\n",
       "      <th>2</th>\n",
       "      <td>2</td>\n",
       "      <td>A0A024QZA8</td>\n",
       "      <td>A0A024QZA8_HUMAN</td>\n",
       "      <td>Receptor protein-tyrosine kinase (EC 2.7.10.1)</td>\n",
       "      <td>EPHA2 hCG_24712</td>\n",
       "      <td>108266</td>\n",
       "      <td>0</td>\n",
       "      <td>0</td>\n",
       "      <td>0</td>\n",
       "      <td>0</td>\n",
       "      <td>0</td>\n",
       "      <td>0</td>\n",
       "      <td>0</td>\n",
       "      <td>0</td>\n",
       "    </tr>\n",
       "    <tr>\n",
       "      <th>3</th>\n",
       "      <td>3</td>\n",
       "      <td>A0A024QZB8</td>\n",
       "      <td>A0A024QZB8_HUMAN</td>\n",
       "      <td>Battenin</td>\n",
       "      <td>CLN3 hCG_1745226</td>\n",
       "      <td>47623</td>\n",
       "      <td>0</td>\n",
       "      <td>0</td>\n",
       "      <td>0</td>\n",
       "      <td>0</td>\n",
       "      <td>0</td>\n",
       "      <td>0</td>\n",
       "      <td>0</td>\n",
       "      <td>0</td>\n",
       "    </tr>\n",
       "    <tr>\n",
       "      <th>4</th>\n",
       "      <td>4</td>\n",
       "      <td>A0A024QZQ1</td>\n",
       "      <td>A0A024QZQ1_HUMAN</td>\n",
       "      <td>Sirtuin (Silent mating type information regula...</td>\n",
       "      <td>SIRT1 hCG_32306</td>\n",
       "      <td>81681</td>\n",
       "      <td>0</td>\n",
       "      <td>0</td>\n",
       "      <td>0</td>\n",
       "      <td>0</td>\n",
       "      <td>0</td>\n",
       "      <td>0</td>\n",
       "      <td>0</td>\n",
       "      <td>0</td>\n",
       "    </tr>\n",
       "  </tbody>\n",
       "</table>\n",
       "</div>"
      ],
      "text/plain": [
       "   Unnamed: 0       Entry        Entry Name  \\\n",
       "0           0  A0A024QZ08  A0A024QZ08_HUMAN   \n",
       "1           1  A0A024QZ86  A0A024QZ86_HUMAN   \n",
       "2           2  A0A024QZA8  A0A024QZA8_HUMAN   \n",
       "3           3  A0A024QZB8  A0A024QZB8_HUMAN   \n",
       "4           4  A0A024QZQ1  A0A024QZQ1_HUMAN   \n",
       "\n",
       "                                       Protein names        Gene Names  \\\n",
       "0  Intraflagellar transport 20 homolog (Chlamydom...   IFT20 hCG_31823   \n",
       "1                             T-box 2, isoform CRA_a    TBX2 hCG_32216   \n",
       "2     Receptor protein-tyrosine kinase (EC 2.7.10.1)   EPHA2 hCG_24712   \n",
       "3                                           Battenin  CLN3 hCG_1745226   \n",
       "4  Sirtuin (Silent mating type information regula...   SIRT1 hCG_32306   \n",
       "\n",
       "     Mass  0-15  15-29  29-33  33-37  37-39  39-41  41-53  53-80  \n",
       "0   15281     0      0      0      0      0      0      0      0  \n",
       "1   75066     0      0      0      0      0      0      0      0  \n",
       "2  108266     0      0      0      0      0      0      0      0  \n",
       "3   47623     0      0      0      0      0      0      0      0  \n",
       "4   81681     0      0      0      0      0      0      0      0  "
      ]
     },
     "execution_count": 115,
     "metadata": {},
     "output_type": "execute_result"
    }
   ],
   "source": [
    "##### Arosne2: check to see if I have imported the correct file. \n",
    "prot_mass_df.head()"
   ]
  },
  {
   "cell_type": "code",
   "execution_count": 116,
   "id": "93d503c6-edcf-4360-9150-6f6fe4690aef",
   "metadata": {
    "jupyter": {
     "source_hidden": true
    },
    "tags": []
   },
   "outputs": [],
   "source": [
    "#arosne2: prot_id is the Uniprot Entry, This changes the dataframe in place\n",
    "def Tprof_append_df(prot_id, Stoichiometry):\n",
    "    #arosne2: tprof= prot_mass_df(\"Entry\")\n",
    "    m = prot_mass_df.loc[prot_mass_df[prot_mass_df['Entry'] == prot_id].index[0],\"Mass\"]\n",
    "    ms= Stoichiometry * m\n",
    "    if ms > 1005000:\n",
    "        prot_mass_df.loc[prot_mass_df[prot_mass_df['Entry'] == prot_id].index[0],\"0-15\"] = 1\n",
    "    elif 1005000 > ms > 670000:\n",
    "        prot_mass_df.loc[prot_mass_df[prot_mass_df['Entry'] == prot_id].index[0],\"15-29\"] = 1\n",
    "    elif 670000 > ms > 435000:\n",
    "        prot_mass_df.loc[prot_mass_df[prot_mass_df['Entry'] == prot_id].index[0],\"29-33\"] = 1\n",
    "    elif 435000 > ms > 150000:\n",
    "        prot_mass_df.loc[prot_mass_df[prot_mass_df['Entry'] == prot_id].index[0],\"33-37\"] = 1\n",
    "    elif 150000 > ms > 102000:\n",
    "        prot_mass_df.loc[prot_mass_df[prot_mass_df['Entry'] == prot_id].index[0],\"37-39\"] = 1\n",
    "    elif 102000 > ms > 40000:\n",
    "        prot_mass_df.loc[prot_mass_df[prot_mass_df['Entry'] == prot_id].index[0],\"41-53\"] = 1\n",
    "    elif 40000 > ms > 0:\n",
    "        prot_mass_df.loc[prot_mass_df[prot_mass_df['Entry'] == prot_id].index[0],\"53-80\"] = 1\n",
    "    return "
   ]
  },
  {
   "cell_type": "code",
   "execution_count": 117,
   "id": "5bea1db2-0ef9-478d-9090-fd4ad236d9b3",
   "metadata": {},
   "outputs": [],
   "source": [
    "#arosne2: make dataframe with all proteins of interest and their stoichiometry.\n",
    "prot_of_interest_stoic_df = pd.DataFrame([[\"O75436\",1],['Q96QK1',1],[\"Q9UBQ0\",1]],columns=['prot_id','Stoichiometry'])\n"
   ]
  },
  {
   "cell_type": "code",
   "execution_count": 118,
   "id": "bc575af1-82af-47a6-9dd0-d620c499800b",
   "metadata": {},
   "outputs": [],
   "source": [
    "#arosne2: output dataframe into csv\n",
    "prot_of_interest_stoic_df.to_csv('prot_of_interest_stoic.csv')"
   ]
  },
  {
   "cell_type": "code",
   "execution_count": 119,
   "id": "d336e5a0-aff9-4420-9425-9046c0a2188b",
   "metadata": {},
   "outputs": [],
   "source": [
    "#arosne2: if dataframe already exists, take in dataframe with all proteins of interest and thier stoichiometry.\n",
    "prot_of_interest_stoic_df = pd.read_csv('prot_of_interest_stoic.csv')"
   ]
  },
  {
   "cell_type": "code",
   "execution_count": 120,
   "id": "01cac290-b52e-4fb5-8b8a-c377a8ec0dbc",
   "metadata": {},
   "outputs": [
    {
     "data": {
      "text/html": [
       "<div>\n",
       "<style scoped>\n",
       "    .dataframe tbody tr th:only-of-type {\n",
       "        vertical-align: middle;\n",
       "    }\n",
       "\n",
       "    .dataframe tbody tr th {\n",
       "        vertical-align: top;\n",
       "    }\n",
       "\n",
       "    .dataframe thead th {\n",
       "        text-align: right;\n",
       "    }\n",
       "</style>\n",
       "<table border=\"1\" class=\"dataframe\">\n",
       "  <thead>\n",
       "    <tr style=\"text-align: right;\">\n",
       "      <th></th>\n",
       "      <th>Unnamed: 0</th>\n",
       "      <th>prot_id</th>\n",
       "      <th>Stoichiometry</th>\n",
       "    </tr>\n",
       "  </thead>\n",
       "  <tbody>\n",
       "    <tr>\n",
       "      <th>0</th>\n",
       "      <td>0</td>\n",
       "      <td>O75436</td>\n",
       "      <td>1</td>\n",
       "    </tr>\n",
       "    <tr>\n",
       "      <th>1</th>\n",
       "      <td>1</td>\n",
       "      <td>Q96QK1</td>\n",
       "      <td>1</td>\n",
       "    </tr>\n",
       "    <tr>\n",
       "      <th>2</th>\n",
       "      <td>2</td>\n",
       "      <td>Q9UBQ0</td>\n",
       "      <td>1</td>\n",
       "    </tr>\n",
       "  </tbody>\n",
       "</table>\n",
       "</div>"
      ],
      "text/plain": [
       "   Unnamed: 0 prot_id  Stoichiometry\n",
       "0           0  O75436              1\n",
       "1           1  Q96QK1              1\n",
       "2           2  Q9UBQ0              1"
      ]
     },
     "execution_count": 120,
     "metadata": {},
     "output_type": "execute_result"
    }
   ],
   "source": [
    "\n",
    "prot_of_interest_stoic_df.head()"
   ]
  },
  {
   "cell_type": "code",
   "execution_count": 121,
   "id": "65477265-0447-49c1-9f53-9fc43fbdacb7",
   "metadata": {
    "tags": []
   },
   "outputs": [],
   "source": [
    "#arosne2: pull the prot_id and the Stoichiometry from the input dataframe into a dictionary\n",
    "dict_prot_stoic= dict(zip(prot_of_interest_stoic_df.prot_id,prot_of_interest_stoic_df.Stoichiometry))"
   ]
  },
  {
   "cell_type": "code",
   "execution_count": 122,
   "id": "24031274-7b3a-4a9a-b934-d3900dba394a",
   "metadata": {},
   "outputs": [
    {
     "name": "stdout",
     "output_type": "stream",
     "text": [
      "{'O75436': 1, 'Q96QK1': 1, 'Q9UBQ0': 1}\n"
     ]
    }
   ],
   "source": [
    "#arosne2: Check the dictionary\n",
    "print(dict_prot_stoic)"
   ]
  },
  {
   "cell_type": "code",
   "execution_count": 136,
   "id": "540df49b-ffef-4156-a7aa-b5a17f1fc1bb",
   "metadata": {
    "tags": []
   },
   "outputs": [
    {
     "name": "stdout",
     "output_type": "stream",
     "text": [
      "  prot_id  Stoichiometry  15  16  17  18  19  20  21  22  ...  51  52  53  54  \\\n",
      "0  O75436              1   0   0   0   0   0   0   0   0  ...   1   1   0   0   \n",
      "\n",
      "   55  56  57  58  59  60  \n",
      "0   0   0   0   0   0   0  \n",
      "\n",
      "[1 rows x 48 columns]\n",
      "  prot_id  Stoichiometry  15  16  17  18  19  20  21  22  ...  51  52  53  54  \\\n",
      "0  Q96QK1              1   0   0   0   0   0   0   0   0  ...   0   0   0   0   \n",
      "\n",
      "   55  56  57  58  59  60  \n",
      "0   0   0   0   0   0   0  \n",
      "\n",
      "[1 rows x 48 columns]\n",
      "  prot_id  Stoichiometry  15  16  17  18  19  20  21  22  ...  51  52  53  54  \\\n",
      "0  Q9UBQ0              1   0   0   0   0   0   0   0   0  ...   1   1   0   0   \n",
      "\n",
      "   55  56  57  58  59  60  \n",
      "0   0   0   0   0   0   0  \n",
      "\n",
      "[1 rows x 48 columns]\n",
      "         Stoichiometry  15  16  17  18  19  20  21  22  23  ...  51  52  53  \\\n",
      "prot_id                                                     ...               \n",
      "O75436               1   0   0   0   0   0   0   0   0   0  ...   1   1   0   \n",
      "Q96QK1               1   0   0   0   0   0   0   0   0   0  ...   0   0   0   \n",
      "Q9UBQ0               1   0   0   0   0   0   0   0   0   0  ...   1   1   0   \n",
      "\n",
      "         54  55  56  57  58  59  60  \n",
      "prot_id                              \n",
      "O75436    0   0   0   0   0   0   0  \n",
      "Q96QK1    0   0   0   0   0   0   0  \n",
      "Q9UBQ0    0   0   0   0   0   0   0  \n",
      "\n",
      "[3 rows x 47 columns]\n"
     ]
    }
   ],
   "source": [
    "#arosne2: 1. create a new df, then append that df with every consecutive prot/stoic\n",
    "Output_df = pd.DataFrame()\n",
    "for k in dict_prot_stoic:\n",
    "    Temp_df=Tprof_df_fullfractions(k, dict_prot_stoic[k])\n",
    "    print(Temp_df)\n",
    "    if Output_df.empty:\n",
    "        Output_df= Temp_df\n",
    "    else:\n",
    "        Output_df= pd.concat([Output_df, Temp_df])\n",
    "Output_df= Output_df.set_index('prot_id')\n",
    "print(Output_df)"
   ]
  },
  {
   "cell_type": "code",
   "execution_count": 135,
   "id": "4b4dcdc5-3023-42ac-a36b-a345ef82be8d",
   "metadata": {
    "tags": []
   },
   "outputs": [],
   "source": [
    "#arosne2: prot_id is the Uniprot Entry, This creates a new list.\n",
    "#arosne2: This creates a dataframe wih 0 through 80 fractions to output.\n",
    "def Tprof_df_fullfractions(prot_id, Stoichiometry):\n",
    "#arosne2: take mass from Uni_prot csv using prot_id, multiply mass by stoichiometry.\n",
    "    m = prot_mass_df.loc[prot_mass_df[prot_mass_df['Entry'] == prot_id].index[0],\"Mass\"]\n",
    "    ms= Stoichiometry * m\n",
    " #arosne2: number of fraction bins\n",
    "    binsnum = 10\n",
    "    r=[0]*binsnum\n",
    "    r[0]= prot_id\n",
    "    r[1]= Stoichiometry\n",
    "   \n",
    " #arosne2: check the Mass*Stoichiometry against each of the bins of fractions. binary: 1 if in that bin, 0 if not.   \n",
    "    if ms > 1005000:\n",
    "        r[2]=1\n",
    "    elif 1005000 > ms > 670000:\n",
    "        r[3]=1\n",
    "    elif 670000 > ms > 435000:\n",
    "        r[4]=1\n",
    "    elif 435000 > ms > 150000:\n",
    "        r[5]=1\n",
    "    elif 150000 > ms > 102000:\n",
    "        r[6]=1\n",
    "    elif 102000 > ms > 40000:\n",
    "        r[7]=1\n",
    "    elif 40000 > ms > 10000:\n",
    "        r[8]=1\n",
    "    elif 10000 > ms > 0:\n",
    "        r[9]=1\n",
    "         \n",
    "            #arosne2: export list to df in columns with bins\n",
    "    r_df = pd.DataFrame({'prot_id':[r[0]],\n",
    "                        'Stoichiometry':[r[1]],\n",
    "                         '15':[r[2]],\n",
    "                         '16':[r[3]],\n",
    "                         '17':[r[3]],\n",
    "                         '18':[r[3]],\n",
    "                         '19':[r[3]],\n",
    "                         '20':[r[3]],\n",
    "                         '21':[r[3]], \n",
    "                         '22':[r[3]],\n",
    "                         '23':[r[3]],\n",
    "                         '24':[r[3]],\n",
    "                         '25':[r[3]],\n",
    "                         '26':[r[3]],\n",
    "                         '27':[r[3]],\n",
    "                         '28':[r[3]],\n",
    "                         '29':[r[3]],\n",
    "                         '30':[r[4]],\n",
    "                         '31':[r[4]],\n",
    "                         '32':[r[4]],\n",
    "                         '33':[r[4]], \n",
    "                         '34':[r[5]],\n",
    "                         '35':[r[5]],\n",
    "                         '36':[r[5]],\n",
    "                         '37':[r[5]],\n",
    "                         '38':[r[6]],\n",
    "                         '39':[r[6]],\n",
    "                         '40':[r[7]],\n",
    "                         '41':[r[8]],\n",
    "                         '42':[r[8]],\n",
    "                         '43':[r[8]],\n",
    "                         '44':[r[8]], \n",
    "                         '45':[r[8]],\n",
    "                         '46':[r[8]],\n",
    "                         '47':[r[8]],\n",
    "                         '48':[r[8]],\n",
    "                         '49':[r[8]],\n",
    "                         '50':[r[8]],\n",
    "                         '51':[r[8]],\n",
    "                         '52':[r[8]],\n",
    "                         '53':[r[9]],\n",
    "                         '54':[r[9]],\n",
    "                         '55':[r[9]],\n",
    "                         '56':[r[9]], \n",
    "                         '57':[r[9]],\n",
    "                         '58':[r[9]],\n",
    "                         '59':[r[9]],\n",
    "                         '60':[r[9]]})\n",
    "\n",
    "    return r_df"
   ]
  },
  {
   "cell_type": "code",
   "execution_count": 128,
   "id": "cc5204aa-f022-444e-9546-bcdede0de9a5",
   "metadata": {},
   "outputs": [
    {
     "data": {
      "text/plain": [
       "['O75436', 'Q96QK1', 'Q9UBQ0']"
      ]
     },
     "execution_count": 128,
     "metadata": {},
     "output_type": "execute_result"
    }
   ],
   "source": [
    "prot_of_interest_stoic_df.prot_id.values.tolist()"
   ]
  },
  {
   "cell_type": "code",
   "execution_count": 137,
   "id": "bf478a56-022c-4479-8bb6-0939ab7927c2",
   "metadata": {},
   "outputs": [
    {
     "data": {
      "image/png": "[encoded data removed]",
      "text/plain": [
       "<Figure size 640x480 with 3 Axes>"
      ]
     },
     "metadata": {},
     "output_type": "display_data"
    }
   ],
   "source": [
    "#arosne2: Plotting sparklines\n",
    "#arosne2: Transform to compare to experimental Sparklines\n",
    "IDs = prot_of_interest_stoic_df.prot_id.values.tolist()\n",
    "fig, axs = plt.subplots(len(IDs))\n",
    "for i,ID in enumerate(IDs):\n",
    "    axs[i].plot(range(15,61), Output_df.loc[ID].values[1:], label='Predicted_Binned_Elution')"
   ]
  },
  {
   "cell_type": "code",
   "execution_count": 140,
   "id": "319d32bd-fe17-4739-bac2-98588e53d5c9",
   "metadata": {},
   "outputs": [
    {
     "name": "stdout",
     "output_type": "stream",
     "text": [
      "O75436\n",
      "38170\n",
      "38170.0\n",
      "Q96QK1\n",
      "91707\n",
      "129877.0\n",
      "Q9UBQ0\n",
      "20506\n",
      "150383.0\n",
      "   prot_id  Stoichiometry  15  16  17  18  19  20  21  22  ...  51  52  53  \\\n",
      "0        0              0   0   0   0   0   0   0   0   0  ...   0   0   0   \n",
      "\n",
      "   54  55  56  57  58  59  60  \n",
      "0   0   0   0   0   0   0   0  \n",
      "\n",
      "[1 rows x 48 columns]\n",
      "O75436\n",
      "38170\n",
      "38170.0\n",
      "Q96QK1\n",
      "91707\n",
      "129877.0\n",
      "Q9UBQ0\n",
      "20506\n",
      "150383.0\n",
      "   prot_id  Stoichiometry  15  16  17  18  19  20  21  22  ...  51  52  53  \\\n",
      "0        0              0   0   0   0   0   0   0   0   0  ...   0   0   0   \n",
      "\n",
      "   54  55  56  57  58  59  60  \n",
      "0   0   0   0   0   0   0   0  \n",
      "\n",
      "[1 rows x 48 columns]\n",
      "O75436\n",
      "38170\n",
      "38170.0\n",
      "Q96QK1\n",
      "91707\n",
      "129877.0\n",
      "Q9UBQ0\n",
      "20506\n",
      "150383.0\n",
      "   prot_id  Stoichiometry  15  16  17  18  19  20  21  22  ...  51  52  53  \\\n",
      "0        0              0   0   0   0   0   0   0   0   0  ...   0   0   0   \n",
      "\n",
      "   54  55  56  57  58  59  60  \n",
      "0   0   0   0   0   0   0   0  \n",
      "\n",
      "[1 rows x 48 columns]\n",
      "   prot_id  Stoichiometry  15  16  17  18  19  20  21  22  ...  51  52  53  \\\n",
      "0        0              0   0   0   0   0   0   0   0   0  ...   0   0   0   \n",
      "0        0              0   0   0   0   0   0   0   0   0  ...   0   0   0   \n",
      "0        0              0   0   0   0   0   0   0   0   0  ...   0   0   0   \n",
      "\n",
      "   54  55  56  57  58  59  60  \n",
      "0   0   0   0   0   0   0   0  \n",
      "0   0   0   0   0   0   0   0  \n",
      "0   0   0   0   0   0   0   0  \n",
      "\n",
      "[3 rows x 48 columns]\n"
     ]
    }
   ],
   "source": [
    "MassofComplexOutput_df = pd.DataFrame()\n",
    "for k in dict_prot_stoic:\n",
    "    Temp_df= massofcomplex(dict_prot_stoic)\n",
    "    print(Temp_df)\n",
    "    if Output_df.empty:\n",
    "        Output_df= Temp_df\n",
    "    else:\n",
    "        MassofComplexOutput_df= pd.concat([MassofComplexOutput_df, Temp_df])\n",
    "print(MassofComplexOutput_df)"
   ]
  },
  {
   "cell_type": "code",
   "execution_count": 139,
   "id": "a4517f97-d286-4456-b141-d5810fd192a6",
   "metadata": {
    "tags": []
   },
   "outputs": [],
   "source": [
    "#arosne2:This bins the sum of mass*stoic of every protein in the complex\n",
    "#arosne2: prot_id is the Uniprot Entry, This creates a new list.\n",
    "#arosne2: This creates a dataframe wih 0 through 80 fractions to output.\n",
    "def massofcomplex(dict_prot_stoic):\n",
    "#arosne2: take mass from Uni_prot csv using prot_id, multiply mass by stoichiometry.\n",
    "    complexmass = 0.0\n",
    "    for prot in dict_prot_stoic:\n",
    "        m = prot_mass_df.loc[prot_mass_df[prot_mass_df['Entry'] == prot].index[0],\"Mass\"]\n",
    "        ms= dict_prot_stoic[prot] * m\n",
    "        complexmass = complexmass + ms  \n",
    "        print(prot)\n",
    "        print(m)\n",
    "        print(complexmass)\n",
    "        \n",
    " #arosne2: number of fraction bins\n",
    "    binsnum = 10\n",
    "    r=[0]*binsnum\n",
    "    r[0]= 0\n",
    "    r[1]= 0\n",
    "   \n",
    " #arosne2: check the Mass*Stoichiometry against each of the bins of fractions. binary: 1 if in that bin, 0 if not.   \n",
    "    if complexmass > 1005000:\n",
    "        r[2]=1\n",
    "    elif 1005000 > complexmass > 670000:\n",
    "        r[3]=1\n",
    "    elif 670000 > complexmass > 435000:\n",
    "        r[4]=1\n",
    "    elif 435000 > complexmass > 150000:\n",
    "        r[5]=1\n",
    "    elif 150000 > complexmass > 102000:\n",
    "        r[6]=1\n",
    "    elif 102000 > complexmass > 40000:\n",
    "        r[7]=1\n",
    "    elif 40000 > complexmass > 10000:\n",
    "        r[8]=1\n",
    "    elif 10000 > complexmass > 0:\n",
    "        r[9]=1\n",
    "         \n",
    "            #arosne2: export list to df in columns with bins\n",
    "    r_df = pd.DataFrame({'prot_id':[r[0]],\n",
    "                        'Stoichiometry':[r[1]],\n",
    "                         '15':[r[2]],\n",
    "                         '16':[r[3]],\n",
    "                         '17':[r[3]],\n",
    "                         '18':[r[3]],\n",
    "                         '19':[r[3]],\n",
    "                         '20':[r[3]],\n",
    "                         '21':[r[3]], \n",
    "                         '22':[r[3]],\n",
    "                         '23':[r[3]],\n",
    "                         '24':[r[3]],\n",
    "                         '25':[r[3]],\n",
    "                         '26':[r[3]],\n",
    "                         '27':[r[3]],\n",
    "                         '28':[r[3]],\n",
    "                         '29':[r[3]],\n",
    "                         '30':[r[4]],\n",
    "                         '31':[r[4]],\n",
    "                         '32':[r[4]],\n",
    "                         '33':[r[4]], \n",
    "                         '34':[r[5]],\n",
    "                         '35':[r[5]],\n",
    "                         '36':[r[5]],\n",
    "                         '37':[r[5]],\n",
    "                         '38':[r[6]],\n",
    "                         '39':[r[6]],\n",
    "                         '40':[r[7]],\n",
    "                         '41':[r[8]],\n",
    "                         '42':[r[8]],\n",
    "                         '43':[r[8]],\n",
    "                         '44':[r[8]], \n",
    "                         '45':[r[8]],\n",
    "                         '46':[r[8]],\n",
    "                         '47':[r[8]],\n",
    "                         '48':[r[8]],\n",
    "                         '49':[r[8]],\n",
    "                         '50':[r[8]],\n",
    "                         '51':[r[8]],\n",
    "                         '52':[r[8]],\n",
    "                         '53':[r[9]],\n",
    "                         '54':[r[9]],\n",
    "                         '55':[r[9]],\n",
    "                         '56':[r[9]], \n",
    "                         '57':[r[9]],\n",
    "                         '58':[r[9]],\n",
    "                         '59':[r[9]],\n",
    "                         '60':[r[9]]})\n",
    "\n",
    "    return r_df"
   ]
  },
  {
   "cell_type": "code",
   "execution_count": 141,
   "id": "e44c4b70-57db-44d6-8c19-44b326ec39ef",
   "metadata": {},
   "outputs": [
    {
     "data": {
      "image/png": "[encoded data removed]",
      "text/plain": [
       "<Figure size 640x480 with 1 Axes>"
      ]
     },
     "metadata": {},
     "output_type": "display_data"
    }
   ],
   "source": [
    "#arosne2: Plotting sparklines\n",
    "#arosne2: Transform to compare to experimental Sparklines\n",
    "IDs = [\"Corum 956\"]\n",
    "fig, axs = plt.subplots(len(IDs))\n",
    "for i,ID in enumerate(IDs):\n",
    "    axs.plot(range(15,61), MassofComplexOutput_df.iloc[0].values[2:], label='Predicted_Binned_Elution')"
   ]
  },
  {
   "cell_type": "code",
   "execution_count": null,
   "id": "5d937b5c-27eb-456f-af8c-bf39556b8d9f",
   "metadata": {},
   "outputs": [],
   "source": []
  }
 ],
 "metadata": {
  "kernelspec": {
   "display_name": "Python 3 (ipykernel)",
   "language": "python",
   "name": "python3"
  },
  "language_info": {
   "codemirror_mode": {
    "name": "ipython",
    "version": 3
   },
   "file_extension": ".py",
   "mimetype": "text/x-python",
   "name": "python",
   "nbconvert_exporter": "python",
   "pygments_lexer": "ipython3",
   "version": "3.10.7"
  }
 },
 "nbformat": 4,
 "nbformat_minor": 5
}
